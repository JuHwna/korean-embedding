{
  "nbformat": 4,
  "nbformat_minor": 0,
  "metadata": {
    "colab": {
      "name": "어떤  단어가 많이 쓰였는가2.ipynb",
      "provenance": [],
      "collapsed_sections": []
    },
    "kernelspec": {
      "name": "python3",
      "display_name": "Python 3"
    },
    "accelerator": "GPU"
  },
  "cells": [
    {
      "cell_type": "markdown",
      "metadata": {
        "id": "R3TpYCTbPFtR",
        "colab_type": "text"
      },
      "source": [
        "## 2. 케라스의 texts_to_matrix() 이해하기"
      ]
    },
    {
      "cell_type": "code",
      "metadata": {
        "id": "pa4XdsVkPGDj",
        "colab_type": "code",
        "colab": {}
      },
      "source": [
        "import numpy as np\n",
        "from tensorflow.keras.preprocessing.text import Tokenizer\n",
        "#keras의 전처리 도구인 Tokenizer를 임포트"
      ],
      "execution_count": 0,
      "outputs": []
    },
    {
      "cell_type": "code",
      "metadata": {
        "id": "kltkGf2GPOGE",
        "colab_type": "code",
        "colab": {}
      },
      "source": [
        "texts = ['먹고 싶은 사과', '먹고 싶은 바나나', '길고 노란 바나나 바나나', '저는 과일이 좋아요']"
      ],
      "execution_count": 0,
      "outputs": []
    },
    {
      "cell_type": "code",
      "metadata": {
        "id": "fMbq-qQQPXFY",
        "colab_type": "code",
        "outputId": "2f6cb037-2f38-4762-a1fb-c254a579deec",
        "colab": {
          "base_uri": "https://localhost:8080/",
          "height": 35
        }
      },
      "source": [
        "t = Tokenizer()\n",
        "t.fit_on_texts(texts)\n",
        "print(t.word_index)"
      ],
      "execution_count": 0,
      "outputs": [
        {
          "output_type": "stream",
          "text": [
            "{'바나나': 1, '먹고': 2, '싶은': 3, '사과': 4, '길고': 5, '노란': 6, '저는': 7, '과일이': 8, '좋아요': 9}\n"
          ],
          "name": "stdout"
        }
      ]
    },
    {
      "cell_type": "markdown",
      "metadata": {
        "id": "haLZr2HEPcuw",
        "colab_type": "text"
      },
      "source": [
        "- texts_to_matrix() : 입력된 텍스트 데이터로부터 행렬를 만드는 도구\n",
        "  - 총 4개의 모드 지원 : 'binary','count', 'freq','tfidf'"
      ]
    },
    {
      "cell_type": "markdown",
      "metadata": {
        "id": "cv4tHBTRPxiu",
        "colab_type": "text"
      },
      "source": [
        "- 'count' 모드를 사용했을 경우\n",
        "  - 사용 시 : 문서 단어 행렬(DTM)을 생성함\n",
        "  - DTM에서의 인덱스는 앞서 확인한 word_index의 결과\n",
        "  - 주의할 점\n",
        "    - 각 단어에 부여되는 인덱스는 1부터 시작하는 반면에 완성되는 행렬의 인덱스는 0부터 시작\n",
        "  - DTM은 bag of words를 기반으로 하므로 단어 순서 정보는 보존되지 않음\n",
        "  - 4개의 모든 모두에서 단어 순서 정보는 보존되지 않음"
      ]
    },
    {
      "cell_type": "code",
      "metadata": {
        "id": "R6M7f5c_PZgM",
        "colab_type": "code",
        "outputId": "691bad10-b84b-43d1-d6b7-59d3e2dd76db",
        "colab": {
          "base_uri": "https://localhost:8080/",
          "height": 89
        }
      },
      "source": [
        "print(t.texts_to_matrix(texts, mode = 'count')) \n",
        "# texts_to_matrix의 입력으로 texts를 넣고, 모드는 'count'"
      ],
      "execution_count": 0,
      "outputs": [
        {
          "output_type": "stream",
          "text": [
            "[[0. 0. 1. 1. 1. 0. 0. 0. 0. 0.]\n",
            " [0. 1. 1. 1. 0. 0. 0. 0. 0. 0.]\n",
            " [0. 2. 0. 0. 0. 1. 1. 0. 0. 0.]\n",
            " [0. 0. 0. 0. 0. 0. 0. 1. 1. 1.]]\n"
          ],
          "name": "stdout"
        }
      ]
    },
    {
      "cell_type": "markdown",
      "metadata": {
        "id": "484BW7BHQfLV",
        "colab_type": "text"
      },
      "source": [
        "- binary 모드의 경우 해당 단어가 존재하는지만 관심을 가지고 해당 단어가 몇 개였는지는 무시함\n",
        "  - 해당 단어가 존재하면 1, 단어가 존재하지 않으면 0의 값을 가짐\n",
        "  - 단어의 존재 유무로만 행렬을 표현"
      ]
    },
    {
      "cell_type": "code",
      "metadata": {
        "id": "ZOCF6xFqPuXY",
        "colab_type": "code",
        "outputId": "e53e0d3b-0145-4ef8-bd2f-ff34a23423e2",
        "colab": {
          "base_uri": "https://localhost:8080/",
          "height": 89
        }
      },
      "source": [
        "print(t.texts_to_matrix(texts, mode = 'binary'))"
      ],
      "execution_count": 0,
      "outputs": [
        {
          "output_type": "stream",
          "text": [
            "[[0. 0. 1. 1. 1. 0. 0. 0. 0. 0.]\n",
            " [0. 1. 1. 1. 0. 0. 0. 0. 0. 0.]\n",
            " [0. 1. 0. 0. 0. 1. 1. 0. 0. 0.]\n",
            " [0. 0. 0. 0. 0. 0. 0. 1. 1. 1.]]\n"
          ],
          "name": "stdout"
        }
      ]
    },
    {
      "cell_type": "markdown",
      "metadata": {
        "id": "rOo-0XJtYN7B",
        "colab_type": "text"
      },
      "source": [
        "- tfidf 모드는 TF-IDF 행렬을 만듦\n",
        "  - 기본식이나 사이킷런의 TfidVectorizer에서 사용하는 식이랑 다름\n",
        "  "
      ]
    },
    {
      "cell_type": "code",
      "metadata": {
        "id": "eEgAGeOIQgig",
        "colab_type": "code",
        "outputId": "84f95fb2-df51-4757-e7bb-1634c9347968",
        "colab": {
          "base_uri": "https://localhost:8080/",
          "height": 89
        }
      },
      "source": [
        "print(t.texts_to_matrix(texts, mode = 'tfidf').round(2)) \n",
        "# 둘째 자리까지 반올림하여 출력"
      ],
      "execution_count": 0,
      "outputs": [
        {
          "output_type": "stream",
          "text": [
            "[[0.   0.   0.85 0.85 1.1  0.   0.   0.   0.   0.  ]\n",
            " [0.   0.85 0.85 0.85 0.   0.   0.   0.   0.   0.  ]\n",
            " [0.   1.43 0.   0.   0.   1.1  1.1  0.   0.   0.  ]\n",
            " [0.   0.   0.   0.   0.   0.   0.   1.1  1.1  1.1 ]]\n"
          ],
          "name": "stdout"
        }
      ]
    },
    {
      "cell_type": "markdown",
      "metadata": {
        "id": "isFdGt7VYjdI",
        "colab_type": "text"
      },
      "source": [
        "- freq 모드는 각 문서에서의 각 단어의 등장 횟수를 분자로 각 문서의 크기(각 문서에서 등장한 모든 단어의 개수의 총합)를 분모로 하는 표현 방법"
      ]
    },
    {
      "cell_type": "code",
      "metadata": {
        "id": "1V5dPxxqYQih",
        "colab_type": "code",
        "outputId": "7158bf8c-fdb2-4701-fbb3-03c750cee1e3",
        "colab": {
          "base_uri": "https://localhost:8080/",
          "height": 89
        }
      },
      "source": [
        "print(t.texts_to_matrix(texts, mode = 'freq').round(2)) # 둘째 자리까지 반올림하여 출력"
      ],
      "execution_count": 0,
      "outputs": [
        {
          "output_type": "stream",
          "text": [
            "[[0.   0.   0.33 0.33 0.33 0.   0.   0.   0.   0.  ]\n",
            " [0.   0.33 0.33 0.33 0.   0.   0.   0.   0.   0.  ]\n",
            " [0.   0.5  0.   0.   0.   0.25 0.25 0.   0.   0.  ]\n",
            " [0.   0.   0.   0.   0.   0.   0.   0.33 0.33 0.33]]\n"
          ],
          "name": "stdout"
        }
      ]
    },
    {
      "cell_type": "markdown",
      "metadata": {
        "id": "s88Wd3bfYuP6",
        "colab_type": "text"
      },
      "source": [
        "## 3. 20개 뉴스 그룹 데이터에 대한 이해\n",
        "- 사이킷런에서는 20개의 다른 주제를 가진 18,846개의 뉴스 그룹 이메일 데이터를 제공"
      ]
    },
    {
      "cell_type": "code",
      "metadata": {
        "id": "1796QffjYksi",
        "colab_type": "code",
        "outputId": "c014e248-b0ff-4fb5-880c-eca6cde74f52",
        "colab": {
          "base_uri": "https://localhost:8080/",
          "height": 81
        }
      },
      "source": [
        "import pandas as pd\n",
        "from sklearn.datasets import fetch_20newsgroups\n",
        "%matplotlib inline\n",
        "import matplotlib.pyplot as plt\n",
        "from tensorflow.keras.preprocessing.text import Tokenizer\n",
        "from tensorflow.keras.utils import to_categorical"
      ],
      "execution_count": 0,
      "outputs": [
        {
          "output_type": "display_data",
          "data": {
            "text/html": [
              "<p style=\"color: red;\">\n",
              "The default version of TensorFlow in Colab will soon switch to TensorFlow 2.x.<br>\n",
              "We recommend you <a href=\"https://www.tensorflow.org/guide/migrate\" target=\"_blank\">upgrade</a> now \n",
              "or ensure your notebook will continue to use TensorFlow 1.x via the <code>%tensorflow_version 1.x</code> magic:\n",
              "<a href=\"https://colab.research.google.com/notebooks/tensorflow_version.ipynb\" target=\"_blank\">more info</a>.</p>\n"
            ],
            "text/plain": [
              "<IPython.core.display.HTML object>"
            ]
          },
          "metadata": {
            "tags": []
          }
        }
      ]
    },
    {
      "cell_type": "markdown",
      "metadata": {
        "id": "8_I1qubZY9I2",
        "colab_type": "text"
      },
      "source": [
        "- subset의 값 \n",
        "  - 'all'을 넣으면 전체 데이터의 샘플을 다운로드\n",
        "  - 'train'을 넣으면 훈련 데이터 다운로드\n",
        "  - 'test'를 넣으면 테스트 데이터 다운로드\n"
      ]
    },
    {
      "cell_type": "code",
      "metadata": {
        "id": "kNz9Hsc5Y3b0",
        "colab_type": "code",
        "outputId": "93c9964f-846f-4f45-8b8d-f139242ebe2b",
        "colab": {
          "base_uri": "https://localhost:8080/",
          "height": 53
        }
      },
      "source": [
        "newsdata = fetch_20newsgroups(subset = 'train') \n",
        "# 'train'을 기재하면 훈련 데이터만 리턴한다."
      ],
      "execution_count": 0,
      "outputs": [
        {
          "output_type": "stream",
          "text": [
            "Downloading 20news dataset. This may take a few minutes.\n",
            "Downloading dataset from https://ndownloader.figshare.com/files/5975967 (14 MB)\n"
          ],
          "name": "stderr"
        }
      ]
    },
    {
      "cell_type": "code",
      "metadata": {
        "id": "roq1ErXOZLWT",
        "colab_type": "code",
        "outputId": "6c5a1b7c-06ab-4a31-b8a8-94a32129bb3a",
        "colab": {
          "base_uri": "https://localhost:8080/",
          "height": 35
        }
      },
      "source": [
        "print(newsdata.keys())"
      ],
      "execution_count": 0,
      "outputs": [
        {
          "output_type": "stream",
          "text": [
            "dict_keys(['data', 'filenames', 'target_names', 'target', 'DESCR'])\n"
          ],
          "name": "stdout"
        }
      ]
    },
    {
      "cell_type": "code",
      "metadata": {
        "id": "D74dlamXZNGv",
        "colab_type": "code",
        "outputId": "17258160-c213-4027-d856-21a2f2de31a0",
        "colab": {
          "base_uri": "https://localhost:8080/",
          "height": 35
        }
      },
      "source": [
        "print('훈련용 샘플의 개수 : {}'.format(len(newsdata.data)))"
      ],
      "execution_count": 0,
      "outputs": [
        {
          "output_type": "stream",
          "text": [
            "훈련용 샘플의 개수 : 11314\n"
          ],
          "name": "stdout"
        }
      ]
    },
    {
      "cell_type": "code",
      "metadata": {
        "id": "ySgmtlXIZVQN",
        "colab_type": "code",
        "outputId": "7a21c193-03f0-472c-f992-33fb5c95a55b",
        "colab": {
          "base_uri": "https://localhost:8080/",
          "height": 73
        }
      },
      "source": [
        "print('총 주제의 개수 : {}'.format(len(newsdata.target_names)))\n",
        "print(newsdata.target_names)"
      ],
      "execution_count": 0,
      "outputs": [
        {
          "output_type": "stream",
          "text": [
            "총 주제의 개수 : 20\n",
            "['alt.atheism', 'comp.graphics', 'comp.os.ms-windows.misc', 'comp.sys.ibm.pc.hardware', 'comp.sys.mac.hardware', 'comp.windows.x', 'misc.forsale', 'rec.autos', 'rec.motorcycles', 'rec.sport.baseball', 'rec.sport.hockey', 'sci.crypt', 'sci.electronics', 'sci.med', 'sci.space', 'soc.religion.christian', 'talk.politics.guns', 'talk.politics.mideast', 'talk.politics.misc', 'talk.religion.misc']\n"
          ],
          "name": "stdout"
        }
      ]
    },
    {
      "cell_type": "markdown",
      "metadata": {
        "id": "vqJqFLkzZZjg",
        "colab_type": "text"
      },
      "source": [
        "- 이번 챕터 실습의 목적 : 테스트 데이터에서 이메일 본문을 보고 20개의 주제 중 어떤 주제인지를 맞추는 것"
      ]
    },
    {
      "cell_type": "code",
      "metadata": {
        "id": "we9FrBW7ZXXB",
        "colab_type": "code",
        "outputId": "0bbd964d-213f-42da-ccfd-034e47242674",
        "colab": {
          "base_uri": "https://localhost:8080/",
          "height": 35
        }
      },
      "source": [
        "print('첫번째 샘플의 레이블 : {}'.format(newsdata.target[0]))"
      ],
      "execution_count": 0,
      "outputs": [
        {
          "output_type": "stream",
          "text": [
            "첫번째 샘플의 레이블 : 7\n"
          ],
          "name": "stdout"
        }
      ]
    },
    {
      "cell_type": "code",
      "metadata": {
        "id": "bs5Dx2k7ZhI5",
        "colab_type": "code",
        "outputId": "f9cb71ac-603d-4f7e-dfd3-f9cce0829397",
        "colab": {
          "base_uri": "https://localhost:8080/",
          "height": 35
        }
      },
      "source": [
        "print('7번 레이블이 의미하는 주제 : {}'.format(newsdata.target_names[7]))"
      ],
      "execution_count": 0,
      "outputs": [
        {
          "output_type": "stream",
          "text": [
            "7번 레이블이 의미하는 주제 : rec.autos\n"
          ],
          "name": "stdout"
        }
      ]
    },
    {
      "cell_type": "code",
      "metadata": {
        "id": "WrGtNo7IZjsC",
        "colab_type": "code",
        "outputId": "8aa8a9a1-dd4c-49b3-94d4-f413c836b7f1",
        "colab": {
          "base_uri": "https://localhost:8080/",
          "height": 413
        }
      },
      "source": [
        "print(newsdata.data[0]) # 첫번째 샘플 출력"
      ],
      "execution_count": 0,
      "outputs": [
        {
          "output_type": "stream",
          "text": [
            "From: lerxst@wam.umd.edu (where's my thing)\n",
            "Subject: WHAT car is this!?\n",
            "Nntp-Posting-Host: rac3.wam.umd.edu\n",
            "Organization: University of Maryland, College Park\n",
            "Lines: 15\n",
            "\n",
            " I was wondering if anyone out there could enlighten me on this car I saw\n",
            "the other day. It was a 2-door sports car, looked to be from the late 60s/\n",
            "early 70s. It was called a Bricklin. The doors were really small. In addition,\n",
            "the front bumper was separate from the rest of the body. This is \n",
            "all I know. If anyone can tellme a model name, engine specs, years\n",
            "of production, where this car is made, history, or whatever info you\n",
            "have on this funky looking car, please e-mail.\n",
            "\n",
            "Thanks,\n",
            "- IL\n",
            "   ---- brought to you by your neighborhood Lerxst ----\n",
            "\n",
            "\n",
            "\n",
            "\n",
            "\n"
          ],
          "name": "stdout"
        }
      ]
    },
    {
      "cell_type": "code",
      "metadata": {
        "id": "fENCJMOYZlXp",
        "colab_type": "code",
        "outputId": "c1407e8a-310a-40f5-ce7d-28993bf84237",
        "colab": {
          "base_uri": "https://localhost:8080/",
          "height": 204
        }
      },
      "source": [
        "data = pd.DataFrame(newsdata.data, columns = ['email']) # data로부터 데이터프레임 생성\n",
        "data['target'] = pd.Series(newsdata.target) # target 열 추가\n",
        "data[:5] # 상위 5개 행을 출력"
      ],
      "execution_count": 0,
      "outputs": [
        {
          "output_type": "execute_result",
          "data": {
            "text/html": [
              "<div>\n",
              "<style scoped>\n",
              "    .dataframe tbody tr th:only-of-type {\n",
              "        vertical-align: middle;\n",
              "    }\n",
              "\n",
              "    .dataframe tbody tr th {\n",
              "        vertical-align: top;\n",
              "    }\n",
              "\n",
              "    .dataframe thead th {\n",
              "        text-align: right;\n",
              "    }\n",
              "</style>\n",
              "<table border=\"1\" class=\"dataframe\">\n",
              "  <thead>\n",
              "    <tr style=\"text-align: right;\">\n",
              "      <th></th>\n",
              "      <th>email</th>\n",
              "      <th>target</th>\n",
              "    </tr>\n",
              "  </thead>\n",
              "  <tbody>\n",
              "    <tr>\n",
              "      <th>0</th>\n",
              "      <td>From: lerxst@wam.umd.edu (where's my thing)\\nS...</td>\n",
              "      <td>7</td>\n",
              "    </tr>\n",
              "    <tr>\n",
              "      <th>1</th>\n",
              "      <td>From: guykuo@carson.u.washington.edu (Guy Kuo)...</td>\n",
              "      <td>4</td>\n",
              "    </tr>\n",
              "    <tr>\n",
              "      <th>2</th>\n",
              "      <td>From: twillis@ec.ecn.purdue.edu (Thomas E Will...</td>\n",
              "      <td>4</td>\n",
              "    </tr>\n",
              "    <tr>\n",
              "      <th>3</th>\n",
              "      <td>From: jgreen@amber (Joe Green)\\nSubject: Re: W...</td>\n",
              "      <td>1</td>\n",
              "    </tr>\n",
              "    <tr>\n",
              "      <th>4</th>\n",
              "      <td>From: jcm@head-cfa.harvard.edu (Jonathan McDow...</td>\n",
              "      <td>14</td>\n",
              "    </tr>\n",
              "  </tbody>\n",
              "</table>\n",
              "</div>"
            ],
            "text/plain": [
              "                                               email  target\n",
              "0  From: lerxst@wam.umd.edu (where's my thing)\\nS...       7\n",
              "1  From: guykuo@carson.u.washington.edu (Guy Kuo)...       4\n",
              "2  From: twillis@ec.ecn.purdue.edu (Thomas E Will...       4\n",
              "3  From: jgreen@amber (Joe Green)\\nSubject: Re: W...       1\n",
              "4  From: jcm@head-cfa.harvard.edu (Jonathan McDow...      14"
            ]
          },
          "metadata": {
            "tags": []
          },
          "execution_count": 3
        }
      ]
    },
    {
      "cell_type": "code",
      "metadata": {
        "id": "QQbcE6txZsjg",
        "colab_type": "code",
        "outputId": "25534114-510f-43cf-e2d4-287b6ca1100e",
        "colab": {
          "base_uri": "https://localhost:8080/",
          "height": 143
        }
      },
      "source": [
        "data.info()"
      ],
      "execution_count": 0,
      "outputs": [
        {
          "output_type": "stream",
          "text": [
            "<class 'pandas.core.frame.DataFrame'>\n",
            "RangeIndex: 11314 entries, 0 to 11313\n",
            "Data columns (total 2 columns):\n",
            "email     11314 non-null object\n",
            "target    11314 non-null int64\n",
            "dtypes: int64(1), object(1)\n",
            "memory usage: 176.9+ KB\n"
          ],
          "name": "stdout"
        }
      ]
    },
    {
      "cell_type": "code",
      "metadata": {
        "id": "O8eyBqn-ZwoN",
        "colab_type": "code",
        "outputId": "0d066a2a-5f54-49bd-c369-11c08489d2ee",
        "colab": {
          "base_uri": "https://localhost:8080/",
          "height": 53
        }
      },
      "source": [
        "print('중복을 제외한 샘플의 수 : {}'.format(data['email'].nunique()))\n",
        "#nunique() : 유니크한 value의 개수를 나타냄\n",
        "print('중복을 제외한 주제의 수 : {}'.format(data['target'].nunique()))"
      ],
      "execution_count": 0,
      "outputs": [
        {
          "output_type": "stream",
          "text": [
            "중복을 제외한 샘플의 수 : 11314\n",
            "중복을 제외한 주제의 수 : 20\n"
          ],
          "name": "stdout"
        }
      ]
    },
    {
      "cell_type": "code",
      "metadata": {
        "id": "VpVUUKv8Z0ig",
        "colab_type": "code",
        "outputId": "8730a499-6d84-488b-a5a3-67170c7da2c6",
        "colab": {
          "base_uri": "https://localhost:8080/",
          "height": 286
        }
      },
      "source": [
        "data['target'].value_counts().plot(kind='bar')"
      ],
      "execution_count": 0,
      "outputs": [
        {
          "output_type": "execute_result",
          "data": {
            "text/plain": [
              "<matplotlib.axes._subplots.AxesSubplot at 0x7f77f6d69d30>"
            ]
          },
          "metadata": {
            "tags": []
          },
          "execution_count": 24
        },
        {
          "output_type": "display_data",
          "data": {
            "image/png": "[encoded data removed]",
            "text/plain": [
              "<Figure size 432x288 with 1 Axes>"
            ]
          },
          "metadata": {
            "tags": []
          }
        }
      ]
    },
    {
      "cell_type": "code",
      "metadata": {
        "id": "c9bte6D-Z4LC",
        "colab_type": "code",
        "outputId": "bfd55586-b65a-40ef-e10f-7b239db2bc15",
        "colab": {
          "base_uri": "https://localhost:8080/",
          "height": 395
        }
      },
      "source": [
        "print(data.groupby('target').size().reset_index(name='count'))"
      ],
      "execution_count": 0,
      "outputs": [
        {
          "output_type": "stream",
          "text": [
            "    target  count\n",
            "0        0    480\n",
            "1        1    584\n",
            "2        2    591\n",
            "3        3    590\n",
            "4        4    578\n",
            "5        5    593\n",
            "6        6    585\n",
            "7        7    594\n",
            "8        8    598\n",
            "9        9    597\n",
            "10      10    600\n",
            "11      11    595\n",
            "12      12    591\n",
            "13      13    594\n",
            "14      14    593\n",
            "15      15    599\n",
            "16      16    546\n",
            "17      17    564\n",
            "18      18    465\n",
            "19      19    377\n"
          ],
          "name": "stdout"
        }
      ]
    },
    {
      "cell_type": "code",
      "metadata": {
        "id": "0OOCyagYZ8UX",
        "colab_type": "code",
        "colab": {}
      },
      "source": [
        "newsdata_test = fetch_20newsgroups(subset='test', shuffle=True) # 'test'를 기재하면 테스트 데이터만 리턴한다.\n",
        "train_email = data['email'] # 훈련 데이터의 본문 저장\n",
        "train_label = data['target'] # 훈련 데이터의 레이블 저장\n",
        "test_email = newsdata_test.data # 테스트 데이터의 본문 저장\n",
        "test_label = newsdata_test.target # 테스트 데이터의 레이블 저장"
      ],
      "execution_count": 0,
      "outputs": []
    },
    {
      "cell_type": "code",
      "metadata": {
        "id": "R_Ov4Fc6RxXu",
        "colab_type": "code",
        "outputId": "34e4afc0-6429-436d-f653-c954814e080f",
        "colab": {
          "base_uri": "https://localhost:8080/",
          "height": 35
        }
      },
      "source": [
        "len(train_label.unique())"
      ],
      "execution_count": 0,
      "outputs": [
        {
          "output_type": "execute_result",
          "data": {
            "text/plain": [
              "20"
            ]
          },
          "metadata": {
            "tags": []
          },
          "execution_count": 13
        }
      ]
    },
    {
      "cell_type": "code",
      "metadata": {
        "id": "_4UZ9E9_aAuT",
        "colab_type": "code",
        "colab": {}
      },
      "source": [
        "max_words = 10000 # 실습에 사용할 단어의 최대 개수\n",
        "num_classes = 20 # 레이블의 수"
      ],
      "execution_count": 0,
      "outputs": []
    },
    {
      "cell_type": "code",
      "metadata": {
        "id": "VpGdvHXyaDDQ",
        "colab_type": "code",
        "colab": {}
      },
      "source": [
        "def prepare_data(train_data, test_data, mode): # 전처리 함수\n",
        "    t = Tokenizer(num_words = max_words) # max_words 개수만큼의 단어만 사용한다.\n",
        "    t.fit_on_texts(train_data)\n",
        "    X_train = t.texts_to_matrix(train_data, mode=mode) # 샘플 수 × max_words 크기의 행렬 생성\n",
        "    X_test = t.texts_to_matrix(test_data, mode=mode) # 샘플 수 × max_words 크기의 행렬 생성\n",
        "    return X_train, X_test, t.index_word"
      ],
      "execution_count": 0,
      "outputs": []
    },
    {
      "cell_type": "code",
      "metadata": {
        "id": "LVQVPE5MaJJ5",
        "colab_type": "code",
        "colab": {}
      },
      "source": [
        "X_train, X_test, index_to_word = prepare_data(train_email, test_email, 'binary') # binary 모드로 변환\n",
        "y_train = to_categorical(train_label, num_classes) # 원-핫 인코딩\n",
        "y_test = to_categorical(test_label, num_classes) # 원-핫 인코딩"
      ],
      "execution_count": 0,
      "outputs": []
    },
    {
      "cell_type": "code",
      "metadata": {
        "id": "cB6Hm7oAtgqv",
        "colab_type": "code",
        "outputId": "b6975bf2-ba88-4184-ca83-cdd269109ba8",
        "colab": {
          "base_uri": "https://localhost:8080/",
          "height": 143
        }
      },
      "source": [
        "X_train"
      ],
      "execution_count": 0,
      "outputs": [
        {
          "output_type": "execute_result",
          "data": {
            "text/plain": [
              "array([[0., 1., 1., ..., 0., 0., 0.],\n",
              "       [0., 1., 1., ..., 0., 0., 0.],\n",
              "       [0., 1., 1., ..., 0., 0., 0.],\n",
              "       ...,\n",
              "       [0., 1., 1., ..., 0., 0., 0.],\n",
              "       [0., 1., 1., ..., 0., 0., 0.],\n",
              "       [0., 0., 0., ..., 0., 0., 0.]])"
            ]
          },
          "metadata": {
            "tags": []
          },
          "execution_count": 24
        }
      ]
    },
    {
      "cell_type": "code",
      "metadata": {
        "id": "ChqPz2VJaL-c",
        "colab_type": "code",
        "outputId": "d0f64d86-f461-404a-b5cd-cdc21c106ceb",
        "colab": {
          "base_uri": "https://localhost:8080/",
          "height": 89
        }
      },
      "source": [
        "print('훈련 샘플 본문의 크기 : {}'.format(X_train.shape))\n",
        "print('훈련 샘플 레이블의 크기 : {}'.format(y_train.shape))\n",
        "print('테스트 샘플 본문의 크기 : {}'.format(X_test.shape))\n",
        "print('테스트 샘플 레이블의 크기 : {}'.format(y_test.shape))"
      ],
      "execution_count": 0,
      "outputs": [
        {
          "output_type": "stream",
          "text": [
            "훈련 샘플 본문의 크기 : (11314, 10000)\n",
            "훈련 샘플 레이블의 크기 : (11314, 20)\n",
            "테스트 샘플 본문의 크기 : (7532, 10000)\n",
            "테스트 샘플 레이블의 크기 : (7532, 20)\n"
          ],
          "name": "stdout"
        }
      ]
    },
    {
      "cell_type": "code",
      "metadata": {
        "id": "NYZHEaNfaOUE",
        "colab_type": "code",
        "outputId": "d074638e-b74e-4f89-a24a-16f3d28a99f4",
        "colab": {
          "base_uri": "https://localhost:8080/",
          "height": 53
        }
      },
      "source": [
        "print('빈도수 상위 1번 단어 : {}'.format(index_to_word[1]))\n",
        "print('빈도수 상위 9999번 단어 : {}'.format(index_to_word[9999]))"
      ],
      "execution_count": 0,
      "outputs": [
        {
          "output_type": "stream",
          "text": [
            "빈도수 상위 1번 단어 : the\n",
            "빈도수 상위 9999번 단어 : mic\n"
          ],
          "name": "stdout"
        }
      ]
    },
    {
      "cell_type": "markdown",
      "metadata": {
        "id": "NZfNZrNlaTWP",
        "colab_type": "text"
      },
      "source": [
        "## 4. 다층 퍼셉트론(Multilayer Preceptron)을 사용하여 텍스트 분류하기"
      ]
    },
    {
      "cell_type": "code",
      "metadata": {
        "id": "WAl-yJtWaRgV",
        "colab_type": "code",
        "colab": {}
      },
      "source": [
        "from tensorflow.keras.models import Sequential\n",
        "from tensorflow.keras.layers import Dense, Dropout"
      ],
      "execution_count": 0,
      "outputs": []
    },
    {
      "cell_type": "code",
      "metadata": {
        "id": "U5j1jsjwaZ9V",
        "colab_type": "code",
        "colab": {}
      },
      "source": [
        "def fit_and_evaluate(X_train, y_train, X_test, y_test):\n",
        "    model = Sequential()\n",
        "    model.add(Dense(256, input_shape=(max_words,), activation='relu'))\n",
        "    model.add(Dropout(0.5))\n",
        "    model.add(Dense(128, activation='relu'))\n",
        "    model.add(Dropout(0.5))\n",
        "    model.add(Dense(num_classes, activation='softmax'))\n",
        "\n",
        "    model.compile(loss='categorical_crossentropy', optimizer='adam', metrics=['accuracy'])\n",
        "    model.fit(X_train, y_train, batch_size=128, epochs=5, verbose=1, validation_split=0.1)\n",
        "    score = model.evaluate(X_test, y_test, batch_size=128, verbose=0)\n",
        "    return score[1]"
      ],
      "execution_count": 0,
      "outputs": []
    },
    {
      "cell_type": "code",
      "metadata": {
        "id": "yyJqYt8OacF7",
        "colab_type": "code",
        "outputId": "2626a00f-487f-43f1-8509-1c7c0c779356",
        "colab": {
          "base_uri": "https://localhost:8080/",
          "height": 955
        }
      },
      "source": [
        "modes = ['binary', 'count', 'tfidf', 'freq'] # 4개의 모드를 리스트에 저장.\n",
        "\n",
        "for mode in modes: # 4개의 모드에 대해서 각각 아래의 작업을 반복한다.\n",
        "    X_train, X_test, _ = prepare_data(train_email, test_email, mode) # 모드에 따라서 데이터를 전처리\n",
        "    score = fit_and_evaluate(X_train, y_train, X_test, y_test) # 모델을 훈련하고 평가.\n",
        "    print(mode+' 모드의 테스트 정확도:', score)"
      ],
      "execution_count": 0,
      "outputs": [
        {
          "output_type": "stream",
          "text": [
            "WARNING:tensorflow:From /usr/local/lib/python3.6/dist-packages/tensorflow_core/python/ops/resource_variable_ops.py:1630: calling BaseResourceVariable.__init__ (from tensorflow.python.ops.resource_variable_ops) with constraint is deprecated and will be removed in a future version.\n",
            "Instructions for updating:\n",
            "If using Keras pass *_constraint arguments to layers.\n",
            "Train on 10182 samples, validate on 1132 samples\n",
            "Epoch 1/5\n",
            "10182/10182 [==============================] - 2s 242us/sample - loss: 2.3293 - acc: 0.3198 - val_loss: 0.9524 - val_acc: 0.8092\n",
            "Epoch 2/5\n",
            "10182/10182 [==============================] - 1s 99us/sample - loss: 0.8625 - acc: 0.7692 - val_loss: 0.4574 - val_acc: 0.8799\n",
            "Epoch 3/5\n",
            "10182/10182 [==============================] - 1s 99us/sample - loss: 0.4346 - acc: 0.8857 - val_loss: 0.3378 - val_acc: 0.9019\n",
            "Epoch 4/5\n",
            "10182/10182 [==============================] - 1s 96us/sample - loss: 0.2568 - acc: 0.9367 - val_loss: 0.2993 - val_acc: 0.9134\n",
            "Epoch 5/5\n",
            "10182/10182 [==============================] - 1s 98us/sample - loss: 0.1772 - acc: 0.9548 - val_loss: 0.3038 - val_acc: 0.9099\n",
            "binary 모드의 테스트 정확도: 0.8296601\n",
            "Train on 10182 samples, validate on 1132 samples\n",
            "Epoch 1/5\n",
            "10182/10182 [==============================] - 1s 104us/sample - loss: 2.7909 - acc: 0.2262 - val_loss: 1.7259 - val_acc: 0.7350\n",
            "Epoch 2/5\n",
            "10182/10182 [==============================] - 1s 93us/sample - loss: 1.4963 - acc: 0.6042 - val_loss: 0.7455 - val_acc: 0.8436\n",
            "Epoch 3/5\n",
            "10182/10182 [==============================] - 1s 93us/sample - loss: 0.8741 - acc: 0.7863 - val_loss: 0.7676 - val_acc: 0.8719\n",
            "Epoch 4/5\n",
            "10182/10182 [==============================] - 1s 95us/sample - loss: 0.5349 - acc: 0.8743 - val_loss: 0.4398 - val_acc: 0.8949\n",
            "Epoch 5/5\n",
            "10182/10182 [==============================] - 1s 97us/sample - loss: 0.4043 - acc: 0.9135 - val_loss: 0.4175 - val_acc: 0.8949\n",
            "count 모드의 테스트 정확도: 0.8195698\n",
            "Train on 10182 samples, validate on 1132 samples\n",
            "Epoch 1/5\n",
            "10182/10182 [==============================] - 1s 95us/sample - loss: 2.2758 - acc: 0.3504 - val_loss: 0.8151 - val_acc: 0.8419\n",
            "Epoch 2/5\n",
            "10182/10182 [==============================] - 1s 79us/sample - loss: 0.8474 - acc: 0.7664 - val_loss: 0.4232 - val_acc: 0.8896\n",
            "Epoch 3/5\n",
            "10182/10182 [==============================] - 1s 82us/sample - loss: 0.4593 - acc: 0.8819 - val_loss: 0.3514 - val_acc: 0.9055\n",
            "Epoch 4/5\n",
            "10182/10182 [==============================] - 1s 79us/sample - loss: 0.2890 - acc: 0.9281 - val_loss: 0.3273 - val_acc: 0.9161\n",
            "Epoch 5/5\n",
            "10182/10182 [==============================] - 1s 79us/sample - loss: 0.2288 - acc: 0.9451 - val_loss: 0.3149 - val_acc: 0.9161\n",
            "tfidf 모드의 테스트 정확도: 0.8316516\n",
            "Train on 10182 samples, validate on 1132 samples\n",
            "Epoch 1/5\n",
            "10182/10182 [==============================] - 1s 89us/sample - loss: 2.9765 - acc: 0.0930 - val_loss: 2.9242 - val_acc: 0.4134\n",
            "Epoch 2/5\n",
            "10182/10182 [==============================] - 1s 77us/sample - loss: 2.7293 - acc: 0.2305 - val_loss: 2.3945 - val_acc: 0.4382\n",
            "Epoch 3/5\n",
            "10182/10182 [==============================] - 1s 74us/sample - loss: 2.1478 - acc: 0.3562 - val_loss: 1.8201 - val_acc: 0.5945\n",
            "Epoch 4/5\n",
            "10182/10182 [==============================] - 1s 72us/sample - loss: 1.6805 - acc: 0.4931 - val_loss: 1.4224 - val_acc: 0.6687\n",
            "Epoch 5/5\n",
            "10182/10182 [==============================] - 1s 73us/sample - loss: 1.3289 - acc: 0.6059 - val_loss: 1.1179 - val_acc: 0.7456\n",
            "freq 모드의 테스트 정확도: 0.6950345\n"
          ],
          "name": "stdout"
        }
      ]
    },
    {
      "cell_type": "markdown",
      "metadata": {
        "id": "s7cbEe-Eax97",
        "colab_type": "text"
      },
      "source": [
        "|모드의 테스트 정확도|Accuracy|\n",
        "|--------------------|--------|\n",
        "|binary|0.8296601|\n",
        "|count|0.8195698|\n",
        "|tfidf|0.8316516|\n",
        "|freq|0.6950345| "
      ]
    },
    {
      "cell_type": "markdown",
      "metadata": {
        "id": "kn2UGpewHOie",
        "colab_type": "text"
      },
      "source": [
        "# 번외편 1. tensorflow(1.xx 버전)로 다층 퍼셉트론으로 텍스트 분류하기"
      ]
    },
    {
      "cell_type": "code",
      "metadata": {
        "id": "Kagg3e0dHNd2",
        "colab_type": "code",
        "outputId": "fddae6b9-c4b7-4edd-d05e-4de8233f11ed",
        "colab": {
          "base_uri": "https://localhost:8080/",
          "height": 64
        }
      },
      "source": [
        "import pandas as pd\n",
        "from sklearn.datasets import fetch_20newsgroups\n",
        "%matplotlib inline\n",
        "import matplotlib.pyplot as plt\n",
        "from tensorflow.keras.preprocessing.text import Tokenizer\n",
        "from tensorflow.keras.utils import to_categorical\n",
        "import tensorflow as tf\n",
        "import numpy as np"
      ],
      "execution_count": 3,
      "outputs": [
        {
          "output_type": "display_data",
          "data": {
            "text/html": [
              "<p style=\"color: red;\">\n",
              "The default version of TensorFlow in Colab will soon switch to TensorFlow 2.x.<br>\n",
              "We recommend you <a href=\"https://www.tensorflow.org/guide/migrate\" target=\"_blank\">upgrade</a> now \n",
              "or ensure your notebook will continue to use TensorFlow 1.x via the <code>%tensorflow_version 1.x</code> magic:\n",
              "<a href=\"https://colab.research.google.com/notebooks/tensorflow_version.ipynb\" target=\"_blank\">more info</a>.</p>\n"
            ],
            "text/plain": [
              "<IPython.core.display.HTML object>"
            ]
          },
          "metadata": {
            "tags": []
          }
        }
      ]
    },
    {
      "cell_type": "code",
      "metadata": {
        "id": "7MbcNDGaHZs0",
        "colab_type": "code",
        "outputId": "54ce54c0-b820-457a-8905-34ebe0c89303",
        "colab": {
          "base_uri": "https://localhost:8080/",
          "height": 53
        }
      },
      "source": [
        "newsdata = fetch_20newsgroups(subset = 'train') \n",
        "# 'train'을 기재하면 훈련 데이터만 리턴한다."
      ],
      "execution_count": 4,
      "outputs": [
        {
          "output_type": "stream",
          "text": [
            "Downloading 20news dataset. This may take a few minutes.\n",
            "Downloading dataset from https://ndownloader.figshare.com/files/5975967 (14 MB)\n"
          ],
          "name": "stderr"
        }
      ]
    },
    {
      "cell_type": "code",
      "metadata": {
        "id": "BXW3pqN-HsNJ",
        "colab_type": "code",
        "outputId": "6ae682ee-2601-4b72-c717-28f5023b382c",
        "colab": {
          "base_uri": "https://localhost:8080/",
          "height": 204
        }
      },
      "source": [
        "data = pd.DataFrame(newsdata.data, columns = ['email']) # data로부터 데이터프레임 생성\n",
        "data['target'] = pd.Series(newsdata.target) # target 열 추가\n",
        "data[:5] # 상위 5개 행을 출력"
      ],
      "execution_count": 5,
      "outputs": [
        {
          "output_type": "execute_result",
          "data": {
            "text/html": [
              "<div>\n",
              "<style scoped>\n",
              "    .dataframe tbody tr th:only-of-type {\n",
              "        vertical-align: middle;\n",
              "    }\n",
              "\n",
              "    .dataframe tbody tr th {\n",
              "        vertical-align: top;\n",
              "    }\n",
              "\n",
              "    .dataframe thead th {\n",
              "        text-align: right;\n",
              "    }\n",
              "</style>\n",
              "<table border=\"1\" class=\"dataframe\">\n",
              "  <thead>\n",
              "    <tr style=\"text-align: right;\">\n",
              "      <th></th>\n",
              "      <th>email</th>\n",
              "      <th>target</th>\n",
              "    </tr>\n",
              "  </thead>\n",
              "  <tbody>\n",
              "    <tr>\n",
              "      <th>0</th>\n",
              "      <td>From: lerxst@wam.umd.edu (where's my thing)\\nS...</td>\n",
              "      <td>7</td>\n",
              "    </tr>\n",
              "    <tr>\n",
              "      <th>1</th>\n",
              "      <td>From: guykuo@carson.u.washington.edu (Guy Kuo)...</td>\n",
              "      <td>4</td>\n",
              "    </tr>\n",
              "    <tr>\n",
              "      <th>2</th>\n",
              "      <td>From: twillis@ec.ecn.purdue.edu (Thomas E Will...</td>\n",
              "      <td>4</td>\n",
              "    </tr>\n",
              "    <tr>\n",
              "      <th>3</th>\n",
              "      <td>From: jgreen@amber (Joe Green)\\nSubject: Re: W...</td>\n",
              "      <td>1</td>\n",
              "    </tr>\n",
              "    <tr>\n",
              "      <th>4</th>\n",
              "      <td>From: jcm@head-cfa.harvard.edu (Jonathan McDow...</td>\n",
              "      <td>14</td>\n",
              "    </tr>\n",
              "  </tbody>\n",
              "</table>\n",
              "</div>"
            ],
            "text/plain": [
              "                                               email  target\n",
              "0  From: lerxst@wam.umd.edu (where's my thing)\\nS...       7\n",
              "1  From: guykuo@carson.u.washington.edu (Guy Kuo)...       4\n",
              "2  From: twillis@ec.ecn.purdue.edu (Thomas E Will...       4\n",
              "3  From: jgreen@amber (Joe Green)\\nSubject: Re: W...       1\n",
              "4  From: jcm@head-cfa.harvard.edu (Jonathan McDow...      14"
            ]
          },
          "metadata": {
            "tags": []
          },
          "execution_count": 5
        }
      ]
    },
    {
      "cell_type": "code",
      "metadata": {
        "id": "l0KqjTTzHdqh",
        "colab_type": "code",
        "colab": {}
      },
      "source": [
        "newsdata_test = fetch_20newsgroups(subset='test', shuffle=True) # 'test'를 기재하면 테스트 데이터만 리턴한다.\n",
        "train_email = data['email'] # 훈련 데이터의 본문 저장\n",
        "train_label = data['target'] # 훈련 데이터의 레이블 저장\n",
        "test_email = newsdata_test.data # 테스트 데이터의 본문 저장\n",
        "test_label = newsdata_test.target # 테스트 데이터의 레이블 저장"
      ],
      "execution_count": 0,
      "outputs": []
    },
    {
      "cell_type": "code",
      "metadata": {
        "id": "p9iy_6T8Hhbe",
        "colab_type": "code",
        "colab": {}
      },
      "source": [
        "max_words = 10000 # 실습에 사용할 단어의 최대 개수\n",
        "num_classes = 20 # 레이블의 수"
      ],
      "execution_count": 0,
      "outputs": []
    },
    {
      "cell_type": "code",
      "metadata": {
        "id": "PVFJzxvkHtZZ",
        "colab_type": "code",
        "colab": {}
      },
      "source": [
        "def prepare_data(train_data, test_data, mode): # 전처리 함수\n",
        "    t = Tokenizer(num_words = max_words) # max_words 개수만큼의 단어만 사용한다.\n",
        "    t.fit_on_texts(train_data)\n",
        "    X_train = t.texts_to_matrix(train_data, mode=mode) # 샘플 수 × max_words 크기의 행렬 생성\n",
        "    X_test = t.texts_to_matrix(test_data, mode=mode) # 샘플 수 × max_words 크기의 행렬 생성\n",
        "    return X_train, X_test, t.index_word"
      ],
      "execution_count": 0,
      "outputs": []
    },
    {
      "cell_type": "code",
      "metadata": {
        "id": "MB5v3CBrHve4",
        "colab_type": "code",
        "colab": {}
      },
      "source": [
        "X_train, X_test, index_to_word = prepare_data(train_email, test_email, 'binary') # binary 모드로 변환\n",
        "y_train = to_categorical(train_label, num_classes) # 원-핫 인코딩\n",
        "y_test = to_categorical(test_label, num_classes) # 원-핫 인코딩"
      ],
      "execution_count": 0,
      "outputs": []
    },
    {
      "cell_type": "code",
      "metadata": {
        "id": "7Muf5ac4H0Id",
        "colab_type": "code",
        "colab": {}
      },
      "source": [
        "tf.reset_default_graph()\n",
        "X=tf.placeholder(tf.float32,shape=(None,max_words))\n",
        "Y=tf.placeholder(tf.float32,shape=(None,20))\n",
        "training = tf.placeholder_with_default(False, shape=(), name='training')\n",
        "dropout_rate = 0.5  # == 1 - keep_prob\n",
        "X_drop = tf.layers.dropout(X, dropout_rate, training=training)\n",
        "\n",
        "with tf.name_scope(\"dnn\"):\n",
        "    hidden1 = tf.layers.dense(X, 256, activation='relu', name=\"hidden1\")\n",
        "    hidden1_drop = tf.layers.dropout(hidden1, dropout_rate, training=training)\n",
        "    hidden2 = tf.layers.dense(hidden1, 128, activation='relu', name=\"hidden2\")\n",
        "    hidden2_drop = tf.layers.dropout(hidden2, dropout_rate, training=training)\n",
        "    logits = tf.layers.dense(hidden2, 20, name=\"outputs\")\n",
        "\n",
        "with tf.name_scope(\"loss\"):\n",
        "    cost = tf.nn.softmax_cross_entropy_with_logits_v2(labels=Y, logits=logits)\n",
        "    loss = tf.reduce_mean(cost, name=\"loss\")\n",
        "\n",
        "learning_rate = 0.001\n",
        "\n",
        "with tf.name_scope(\"train\"):\n",
        "    optimizer = tf.train.AdamOptimizer(learning_rate)\n",
        "    training_op = optimizer.minimize(loss)\n",
        "\n",
        "with tf.name_scope(\"eval\"):\n",
        "    prediction = tf.argmax(logits, 1)\n",
        "    correct = tf.equal(prediction, tf.argmax(Y, 1))\n",
        "    accuracy = tf.reduce_mean(tf.cast(correct, tf.float32))\n",
        "    accuracy_summary = tf.summary.scalar('accuracy', accuracy)\n",
        "\n",
        "prediction = tf.argmax(cost, 1)\n",
        "init = tf.global_variables_initializer()\n",
        "n_epochs = 5\n",
        "batch_size = 128"
      ],
      "execution_count": 0,
      "outputs": []
    },
    {
      "cell_type": "code",
      "metadata": {
        "id": "pwOEwegZipgD",
        "colab_type": "code",
        "colab": {}
      },
      "source": [
        "def shuffle_batch(X, y, batch_size):\n",
        "    rnd_idx = np.random.permutation(len(X))\n",
        "    n_batches = len(X) // batch_size\n",
        "    for batch_idx in np.array_split(rnd_idx, n_batches):\n",
        "        X_batch, y_batch = X[batch_idx], y[batch_idx]\n",
        "        yield X_batch, y_batch"
      ],
      "execution_count": 0,
      "outputs": []
    },
    {
      "cell_type": "code",
      "metadata": {
        "id": "1TXG2geMfVz1",
        "colab_type": "code",
        "colab": {
          "base_uri": "https://localhost:8080/",
          "height": 143
        },
        "outputId": "d8001f47-e67c-4880-c945-eb5cfab61169"
      },
      "source": [
        "with tf.Session() as sess:\n",
        "    init.run()\n",
        "\n",
        "    for epoch in range(n_epochs):\n",
        "        for X_batch, y_batch in shuffle_batch(X_train, y_train, batch_size):\n",
        "            sess.run(training_op, feed_dict={X: X_batch, Y: y_batch})\n",
        "        if epoch % 1 == 0:\n",
        "            acc_batch = accuracy.eval(feed_dict={X: X_batch, Y: y_batch})\n",
        "            print(epoch, \"배치 데이터 정확도:\", acc_batch)\n",
        "             # Let's see if we can predict\n",
        "    Z=logits.eval(feed_dict={X:X_test})\n",
        "    y_pred = np.argmax(Z, axis=1)\n",
        "    print('binary 모드의 테스트 예측값: {0}'.format(y_pred))\n",
        "    print('binary 모드의 테스트 정확도:',sess.run(accuracy,feed_dict={X:X_test,Y:y_test}))"
      ],
      "execution_count": 22,
      "outputs": [
        {
          "output_type": "stream",
          "text": [
            "0 배치 데이터 정확도: 0.9296875\n",
            "1 배치 데이터 정확도: 0.953125\n",
            "2 배치 데이터 정확도: 0.984375\n",
            "3 배치 데이터 정확도: 1.0\n",
            "4 배치 데이터 정확도: 1.0\n",
            "binary 모드의 테스트 예측값: [ 4  1  0 ...  9 12 15]\n",
            "binary 모드의 테스트 정확도: 0.8163834\n"
          ],
          "name": "stdout"
        }
      ]
    },
    {
      "cell_type": "code",
      "metadata": {
        "id": "mqTzjnmCC10d",
        "colab_type": "code",
        "colab": {
          "base_uri": "https://localhost:8080/",
          "height": 449
        },
        "outputId": "6cedab70-bd65-416e-f3b9-4bf62a0b51bb"
      },
      "source": [
        "modes = ['binary', 'count', 'tfidf', 'freq']\n",
        "with tf.Session() as sess:\n",
        "    init.run()\n",
        "    for mode in modes:\n",
        "      X_train, X_test, _ = prepare_data(train_email, test_email, mode)\n",
        "      for epoch in range(n_epochs):\n",
        "          for X_batch, y_batch in shuffle_batch(X_train, y_train, batch_size):\n",
        "              sess.run(training_op, feed_dict={X: X_batch, Y: y_batch})\n",
        "          if epoch % 1 == 0:\n",
        "              acc_batch = accuracy.eval(feed_dict={X: X_batch, Y: y_batch})\n",
        "              print(epoch, \"배치 데이터 정확도:\", acc_batch)\n",
        "              # Let's see if we can predict\n",
        "      Z=logits.eval(feed_dict={X:X_test})\n",
        "      y_pred = np.argmax(Z, axis=1)\n",
        "      print(mode,'모드의 테스트 정확도:',sess.run(accuracy,feed_dict={X:X_test,Y:y_test}))"
      ],
      "execution_count": 23,
      "outputs": [
        {
          "output_type": "stream",
          "text": [
            "0 배치 데이터 정확도: 0.90625\n",
            "1 배치 데이터 정확도: 0.96875\n",
            "2 배치 데이터 정확도: 0.9765625\n",
            "3 배치 데이터 정확도: 1.0\n",
            "4 배치 데이터 정확도: 1.0\n",
            "binary 모드의 테스트 정확도: 0.81996816\n",
            "0 배치 데이터 정확도: 0.96875\n",
            "1 배치 데이터 정확도: 1.0\n",
            "2 배치 데이터 정확도: 1.0\n",
            "3 배치 데이터 정확도: 1.0\n",
            "4 배치 데이터 정확도: 1.0\n",
            "count 모드의 테스트 정확도: 0.8017791\n",
            "0 배치 데이터 정확도: 1.0\n",
            "1 배치 데이터 정확도: 1.0\n",
            "2 배치 데이터 정확도: 1.0\n",
            "3 배치 데이터 정확도: 0.9921875\n",
            "4 배치 데이터 정확도: 0.9921875\n",
            "tfidf 모드의 테스트 정확도: 0.8142592\n",
            "0 배치 데이터 정확도: 0.6015625\n",
            "1 배치 데이터 정확도: 0.8828125\n",
            "2 배치 데이터 정확도: 0.7734375\n",
            "3 배치 데이터 정확도: 0.8671875\n",
            "4 배치 데이터 정확도: 0.875\n",
            "freq 모드의 테스트 정확도: 0.6626394\n"
          ],
          "name": "stdout"
        }
      ]
    }
  ]
}